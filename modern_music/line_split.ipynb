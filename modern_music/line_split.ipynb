{
 "cells": [
  {
   "cell_type": "code",
   "execution_count": 28,
   "id": "3b22d182-2e01-4c97-9555-14d6d5091071",
   "metadata": {},
   "outputs": [],
   "source": [
    "from kss import split_sentences\n",
    "from glob import glob\n",
    "import os\n",
    "import pandas as pd"
   ]
  },
  {
   "cell_type": "code",
   "execution_count": 29,
   "id": "9359ccf8-f073-42ac-b1d8-0c495db89259",
   "metadata": {},
   "outputs": [],
   "source": [
    "data_path = \"./data/\"\n",
    "txt_list = glob(os.path.join(data_path, \"*\"))"
   ]
  },
  {
   "cell_type": "code",
   "execution_count": 30,
   "id": "67e650e4-825a-46e3-833e-54638f0c25c9",
   "metadata": {},
   "outputs": [
    {
     "data": {
      "text/plain": [
       "(['./data/발라드 (대중 음악).txt',\n",
       "  './data/포크 음악.txt',\n",
       "  './data/재즈.txt',\n",
       "  './data/전자 음악.txt',\n",
       "  './data/팝 음악.txt',\n",
       "  './data/컨트리 음악.txt',\n",
       "  './data/비밥.txt',\n",
       "  './data/팝 록.txt',\n",
       "  './data/솔 음악.txt',\n",
       "  './data/블루스.txt',\n",
       "  './data/일렉트로닉 댄스 뮤직.txt',\n",
       "  './data/얼터너티브 록.txt',\n",
       "  './data/디스코.txt',\n",
       "  './data/힙합.txt',\n",
       "  './data/브릿팝.txt',\n",
       "  './data/트로트.txt',\n",
       "  './data/하드 록.txt',\n",
       "  './data/프로그레시브 록.txt',\n",
       "  './data/시부야계.txt',\n",
       "  './data/펑크.txt',\n",
       "  './data/레게.txt',\n",
       "  './data/사이키델릭 록.txt',\n",
       "  './data/슈게이징.txt',\n",
       "  './data/현대 기독교 음악.txt',\n",
       "  './data/독립 음악.txt',\n",
       "  './data/로큰롤.txt',\n",
       "  './data/록 음악.txt',\n",
       "  './data/대중음악.txt'],\n",
       " 28)"
      ]
     },
     "execution_count": 30,
     "metadata": {},
     "output_type": "execute_result"
    }
   ],
   "source": [
    "txt_list, len(txt_list)"
   ]
  },
  {
   "cell_type": "code",
   "execution_count": 18,
   "id": "9c79c797-7118-4a28-93dc-1435e36c17a1",
   "metadata": {},
   "outputs": [
    {
     "name": "stdout",
     "output_type": "stream",
     "text": [
      "====================================================================================================\n",
      "Line 1\n",
      "일렉트로닉 댄스 뮤직(Electronic Dance Music), 흔히 EDM은 클럽이나 DJ가 주최하는 댄스 파티에 어울리는 전자 음악의 총칭이다.\n",
      "----------------------------------------------------------------------------------------------------\n",
      "어떠한 특별한 장르를 나타내기보다는 테크노, 하우스, 트랜스, 드럼 앤 베이스, 덥스텝, 드럼스텝, 트랩, 풋워크와 같은 다양한 장르를 총 망라하는 용어라고 할 수 있다.\n",
      "----------------------------------------------------------------------------------------------------\n",
      "디스크 자키는 보통 여러 곡의 EDM을 자유롭게 믹싱하여 재생하며, 이는 ‘인트로 - 절 - 빌드업 - 드롭’으로 구성되는 EDM의 분절적인 구조에 기인한다.\n",
      "----------------------------------------------------------------------------------------------------\n",
      "즉 EDM은 춤을 추기 위해 만들어진 전자 음악이라고 할 수 있다. 'Electronic Dance Music'이라는 용어는 1985년부터 미국에서 'Dance Music'이라는 용어로 사용되어 왔다.\n",
      "----------------------------------------------------------------------------------------------------\n",
      "1995년 6월 Nervous Records와 Project X Magazine은 첫 'Dance Music Award'를 취재했는데, 이것을 'Electronic Dance Music'이라고 칭하였다.\n",
      "----------------------------------------------------------------------------------------------------\n",
      "====================================================================================================\n",
      "Line 2\n",
      "====================================================================================================\n",
      "Line 3\n",
      "====================================================================================================\n",
      "Line 4\n",
      "== 각주 ==\n",
      "----------------------------------------------------------------------------------------------------\n"
     ]
    }
   ],
   "source": [
    "with open(txt_list[10], \"r\") as f:\n",
    "    lines = f.readlines()\n",
    "\n",
    "sentences = []\n",
    "for idx, line in enumerate(lines):\n",
    "    splitted =  split_sentences(line)\n",
    "    print(\"=\"*100)\n",
    "    print(f\"Line {idx+1}\")\n",
    "    for sp in splitted:\n",
    "        print(sp)\n",
    "        print(\"-\"*100)\n",
    "        # if sp is not None:\n",
    "        # sentences.append(sp)"
   ]
  },
  {
   "cell_type": "code",
   "execution_count": 36,
   "id": "7a184516-6eac-457b-8886-ab1cf6d2f008",
   "metadata": {},
   "outputs": [],
   "source": [
    "IDX = 2\n",
    "with open(txt_list[IDX], \"r\") as f:\n",
    "    lines = f.readlines()\n",
    "    \n",
    "if not os.path.exists(\"./new_data/\"):\n",
    "    os.mkdir(\"./new_data/\")\n",
    "    \n",
    "with open(os.path.join('./new_data/', txt_list[IDX].split(\"/\")[-1]), \"w\") as f:\n",
    "    for line in lines:\n",
    "        splitted = split_sentences(line)\n",
    "        for sp_sent in splitted:\n",
    "            f.write(sp_sent + '\\n')\n",
    "    "
   ]
  },
  {
   "cell_type": "code",
   "execution_count": 23,
   "id": "b4b794cb-5b61-4d67-a1e0-d3da8dac25f7",
   "metadata": {},
   "outputs": [
    {
     "data": {
      "text/plain": [
       "['발라드(영어: ballad)는 대중 음악의 한 부류로, 남녀간의 사랑을 주제로 한 감상적인 노래를 지칭하며, 느린 박자와 낭만적이고 감성적인 가사를 지닌 노래와 때로는 약간 빠르면서도 반복적이고 서술적인 노래를 포함한다.',\n",
       " '발라드는 랩과 반대로 대체적으로 조용한 음악이다.',\n",
       " '발라드라는 이름은 이야기 형태의 시나 악곡을 지칭하던 발라드에서 유래하였다.',\n",
       " \"이 말의 본래 뜻은 '스토리를 가진 노래'이며, '담시'(譚詩)라고 번역되기도 한다.\",\n",
       " '트래디셔널 포크송에서는 특히 중요한 위치를 차지하는 것이 이 발라드이다.',\n",
       " '매스컴이 발달하기 이전 사람들은 흥미있는 사진이나 재미있는 이야기를 노래로 하여 서로 전하였다.',\n",
       " '즉 발라드는 오늘날의 신문이나 소설책의 역할을 한 것으로, 민중생활 속에 깊이 뿌리를 박고 있었다.',\n",
       " '특히 스코틀랜드나 북부 잉글랜드는 발라드의 전통이 풍부하였는데, 그것이 이민에 의하여 미국에 전해져 여러 형태로 변하면서 노래되어 왔다.',\n",
       " '서던 마운틴은 특히 발라드를 수없이 전하고 있는 지방이기도 하다.',\n",
       " \"영국에서 기원하여 전승된 발라드 305종을 19세기 말엽 '프랜시스 제임스 차일드'라는 학자가 수집하고 정리하였다.\",\n",
       " \"여기에는 주요 전승 발라드가 대부분 포함되어 있으며, 이 305종을 '차일드 발라드'라고 하여 지금도 발라드 연구의 중요한 열쇠가 되고 있다.\",\n",
       " '브로드사이드 발라드',\n",
       " '차일드 발라드에 포함된 것과 같은 기원이 오래된 전승 발라드에 대하여, 대체로 19세기 이후 영국이나 미국에서 실제로 일어난 일들을 노래한 발라드를 \"브로드사이드 발라드\"(Broadside Ballade)라 부르고 있다.',\n",
       " '대표적인 예가 <톰 둘리>이다.',\n",
       " '== 참고 문헌 ==']"
      ]
     },
     "execution_count": 23,
     "metadata": {},
     "output_type": "execute_result"
    }
   ],
   "source": [
    "sentences"
   ]
  },
  {
   "cell_type": "code",
   "execution_count": 11,
   "id": "fa1ed0cd-e87b-49c7-b196-3adda0417256",
   "metadata": {},
   "outputs": [
    {
     "data": {
      "text/plain": [
       "[('즉', 'O'),\n",
       " (' ', 'O'),\n",
       " ('발라드', 'STUDY_FIELD'),\n",
       " ('는', 'O'),\n",
       " (' ', 'O'),\n",
       " ('오늘날의', 'O'),\n",
       " (' ', 'O'),\n",
       " ('신문이나', 'O'),\n",
       " (' ', 'O'),\n",
       " ('소설', 'STUDY_FIELD'),\n",
       " ('책의', 'O'),\n",
       " (' ', 'O'),\n",
       " ('역할을', 'O'),\n",
       " (' ', 'O'),\n",
       " ('한', 'O'),\n",
       " (' ', 'O'),\n",
       " ('것으로,', 'O'),\n",
       " (' ', 'O'),\n",
       " ('민', 'CIVILIZATION'),\n",
       " ('중생활', 'O'),\n",
       " (' ', 'O'),\n",
       " ('속에', 'O'),\n",
       " (' ', 'O'),\n",
       " ('깊이', 'O'),\n",
       " (' ', 'O'),\n",
       " ('뿌리를', 'O'),\n",
       " (' ', 'O'),\n",
       " ('박고', 'O'),\n",
       " (' ', 'O'),\n",
       " ('있었다.', 'O')]"
      ]
     },
     "execution_count": 11,
     "metadata": {},
     "output_type": "execute_result"
    }
   ],
   "source": [
    "from pororo import Pororo\n",
    "pororo = Pororo(task=\"ner\", lang=\"ko\")\n",
    "pororo(\"즉 발라드는 오늘날의 신문이나 소설책의 역할을 한 것으로, 민중생활 속에 깊이 뿌리를 박고 있었다.\")"
   ]
  },
  {
   "cell_type": "code",
   "execution_count": 19,
   "id": "79822083-17a9-4d7c-ac07-5b3dd22f7f06",
   "metadata": {},
   "outputs": [
    {
     "name": "stdout",
     "output_type": "stream",
     "text": [
      "{'termAtt': ['즉', '발라드', '는', '오늘', '날', '의', '신문', '이나', '소설', '책', '의', '역할', '을', '하', 'ᆫ', '것', '으로', '민중', '생활', '속', '에', '깊이', '뿌리', '를', '박', '고', '있', '었', '다'], 'offsetAtt': [(0, 1), (2, 5), (5, 6), (7, 9), (9, 10), (10, 11), (12, 14), (14, 16), (17, 19), (19, 20), (20, 21), (22, 24), (24, 25), (26, 27), (26, 27), (28, 29), (29, 31), (33, 35), (35, 37), (38, 39), (39, 40), (41, 43), (44, 46), (46, 47), (48, 49), (49, 50), (51, 52), (52, 53), (53, 54)], 'posLengthAtt': [1, 1, 1, 1, 1, 1, 1, 1, 1, 1, 1, 1, 1, 1, 1, 1, 1, 1, 1, 1, 1, 1, 1, 1, 1, 1, 1, 1, 1], 'posTypeAtt': ['MORP', 'MORP', 'MORP', 'MORP', 'MORP', 'MORP', 'MORP', 'MORP', 'MORP', 'MORP', 'MORP', 'MORP', 'MORP', 'MORP', 'MORP', 'MORP', 'MORP', 'MORP', 'MORP', 'MORP', 'MORP', 'MORP', 'MORP', 'MORP', 'MORP', 'MORP', 'MORP', 'MORP', 'MORP'], 'posTagAtt': ['MAJ', 'NNG', 'JX', 'NNG', 'NNG', 'JKG', 'NNG', 'JC', 'NNG', 'NNG', 'JKG', 'NNG', 'JKO', 'VV', 'ETM', 'NNB', 'JKB', 'NNG', 'NNG', 'NNG', 'JKB', 'MAG', 'NNG', 'JKO', 'VV', 'EC', 'VX', 'EP', 'EF'], 'dictTypeAtt': ['KN', 'KN', 'KN', 'KN', 'KN', 'KN', 'KN', 'KN', 'KN', 'KN', 'KN', 'KN', 'KN', 'KN', 'KN', 'KN', 'KN', 'KN', 'KN', 'KN', 'KN', 'KN', 'KN', 'KN', 'KN', 'KN', 'KN', 'KN', 'KN']}\n"
     ]
    }
   ],
   "source": [
    "from pynori.korean_analyzer import KoreanAnalyzer\n",
    "nori = KoreanAnalyzer(\n",
    "           decompound_mode='DISCARD', # DISCARD or MIXED or NONE\n",
    "           infl_decompound_mode='DISCARD', # DISCARD or MIXED or NONE\n",
    "           discard_punctuation=True,\n",
    "           output_unknown_unigrams=False,\n",
    "           pos_filter=False, stop_tags=['JKS', 'JKB', 'VV', 'EF'],\n",
    "           synonym_filter=False, mode_synonym='NORM', # NORM or EXTENSION\n",
    "       ) \n",
    "\n",
    "print(nori.do_analysis(\"즉 발라드는 오늘날의 신문이나 소설책의 역할을 한 것으로, 민중생활 속에 깊이 뿌리를 박고 있었다.\"))"
   ]
  },
  {
   "cell_type": "code",
   "execution_count": 26,
   "id": "d1331d3a-b0d2-4561-bd1c-69c0335ff126",
   "metadata": {},
   "outputs": [],
   "source": [
    "from pynori.korean_analyzer import KoreanAnalyzer\n",
    "nori = KoreanAnalyzer(\n",
    "           decompound_mode='NONE', # DISCARD or MIXED or NONE\n",
    "           infl_decompound_mode='NONE', # DISCARD or MIXED or NONE\n",
    "           discard_punctuation=True,\n",
    "           output_unknown_unigrams=False,\n",
    "           pos_filter=False, stop_tags=['JKS', 'JKB', 'VV', 'EF'],\n",
    "           synonym_filter=False, mode_synonym='NORM', # NORM or EXTENSION\n",
    "       ) \n",
    "nori.set_option_filter(pos_filter=True, stop_tags=['ETM', 'VA', 'JK', 'JX', 'JC'])"
   ]
  },
  {
   "cell_type": "code",
   "execution_count": 27,
   "id": "921c6d64-a086-41be-b6b7-41b90595ffdb",
   "metadata": {},
   "outputs": [
    {
     "name": "stdout",
     "output_type": "stream",
     "text": [
      "['이', '말', '의', '본래', '뜻', '스토리', '를', '노래', '이', '며', '담시', '譚詩', '라고', '번역', '되', '기', '한다']\n"
     ]
    }
   ],
   "source": [
    "print(nori.do_analysis(\"이 말의 본래 뜻은 '스토리를 가진 노래'이며, '담시'(譚詩)라고 번역되기도 한다.\")['termAtt'])"
   ]
  },
  {
   "cell_type": "code",
   "execution_count": 37,
   "id": "6405286d-6a00-41d7-95a5-8dce9098fc27",
   "metadata": {},
   "outputs": [],
   "source": [
    "from random import randint"
   ]
  },
  {
   "cell_type": "code",
   "execution_count": 39,
   "id": "c1c762ac-3d44-4c0b-bc1e-fba30ecd838f",
   "metadata": {},
   "outputs": [
    {
     "name": "stdout",
     "output_type": "stream",
     "text": [
      "[2, 17, 4, 6, 10, 7, 11, 10, 16, 20, 15, 10, 12, 16, 14, 16, 10, 12, 17, 13, 18, 1, 17, 12, 12, 4, 3, 19]\n"
     ]
    }
   ],
   "source": [
    "rand = []\n",
    "for _ in range(28):\n",
    "    rand.append(randint(1, 20))\n",
    "print(rand)"
   ]
  },
  {
   "cell_type": "code",
   "execution_count": 40,
   "id": "e695f42f-5a71-40ce-9800-003f9e14a3f6",
   "metadata": {},
   "outputs": [
    {
     "data": {
      "text/plain": [
       "11.571428571428571"
      ]
     },
     "execution_count": 40,
     "metadata": {},
     "output_type": "execute_result"
    }
   ],
   "source": [
    "sum(rand)/len(rand)"
   ]
  },
  {
   "cell_type": "code",
   "execution_count": null,
   "id": "2ef28d7a-0637-4408-b067-ddd7e2ade30d",
   "metadata": {},
   "outputs": [],
   "source": [
    "N = 7\n",
    "rand = sorted(rand, descending=True)\n",
    "dist = [[] for _ in range(N)]\n"
   ]
  },
  {
   "cell_type": "code",
   "execution_count": 52,
   "id": "df7a60db-ded7-437e-be64-1edcb8681cd0",
   "metadata": {},
   "outputs": [
    {
     "data": {
      "text/plain": [
       "['레게(Reggae)는 1960년대 후반 자메이카에서 발전한 음악 장르이다.',\n",
       " '자메이카 음악의 한 장르인 스카와 록스테디에서 출발하여 여러 음악 장르의 영향을 받아 발전 하였다.',\n",
       " '레게의 음악적 특성은 오프 비트라 불리는 독특한 약박 리듬에 기반한다.',\n",
       " '레게의 리듬은 4분의 4박자로 보통 스카보다는 느리게 연주되며 한 마디의 세 번째 박이 강박이다.',\n",
       " '레게라는 말은 \"현재 유행하는\"이란 뜻의 자메이카식 영어에서 나왔다.',\n",
       " '예를 들어 자메이카 영어로 \"regged clothing\"은 한참 유행하는 옷이란 뜻이다.',\n",
       " '음반에서 레게라는 용어가 처음 사용된 것은 자메이카의 음악 그룹인 투츠 앤 더 마이탈스의 록스테디 음반 \"Do the Reggay\"로 이 음반은 1968년 발매되어 큰 성공을 거두었다.',\n",
       " '이 당시 자메이카의 킹스턴에서는 좀 더 느리게 연주한 록스테디 음악을 레게라 불렀다.',\n",
       " '다음은 레게 음악가인 데릭 모건의 말이다.',\n",
       " '한편 레게 음반 《클렌시 에클스》를 제작한 스티브 버로우는 레게라는 말이 파트와어 스트레게(Streggae)에서 나왔다고 말한다.',\n",
       " '다음은 투츠 앤 마이탈스 그룹의 맴버였던 투츠 히베르트의 말이다.',\n",
       " '한편 밥 말리는 왕에게 헌정된 찬송가를 뜻하는 스페인어 가스펠 레게의 사례를 들어 레게라는 말이 라틴어 레기스(regis, 왕에게 바치는)에서 나왔으며 \"왕의 음악 \"을 뜻한다고 말하였다.',\n",
       " '1960년대 후반 자메이카의 록스태디와 스카에서 발전한 레게는 아프리카 음악과 케러비안 음악 그리고 미국의 리듬 앤 블루스로부터 많은 영향을 받았다.',\n",
       " '1959년에서 1961년 사이 자메이카에서 시작된 스카는 자메이카 전통 음악인 멘토를 기반으로 발전한 음악 장르였다.',\n",
       " '1960년 중반 자메이카 음악가들은 스카를 좀 더 느리게 연주하면서 오프 비트를 가미했고 알톤 엘리스는 이 음악을 자신의 음반에서 록스테디라',\n",
       " '불렀다.',\n",
       " '1960년대 말이 되자 음악가들은 리듬을 보다 느리게 하고 다른 여러가지 효과를 가미하여 레게를 만들게 되었다.',\n",
       " '레게는 이후 자메이카뿐만 아니라 영국, 미국에 퍼져 유행했다.',\n",
       " '레게음악의 가사는 대부분 가난한 자메이카 사람들이 갖는 사회에 대한 관심과 종교에 대한 믿음을 다루고 있다.',\n",
       " '레게음악은 4/4박자에 불규칙하면서 강한 악센트가 특징이다.',\n",
       " '짧은 리듬을 전기 기타와 드럼 세트로 여러 번 반복하거나 오르간이나 피아노로 반복하기도 한다.',\n",
       " '리듬이 복잡한 경우도 있으나 화성은 단순하며, 록 음악처럼 소리도 크다.',\n",
       " '그리고 개의 심박수와 유사하여 개가 들으면 심신이 안정되고 불안 해소, 수면 유도를 할 수 있다.']"
      ]
     },
     "execution_count": 52,
     "metadata": {},
     "output_type": "execute_result"
    }
   ],
   "source": [
    "import pandas as pd\n",
    "\n",
    "with open(\"./new_data/레게.txt\", \"r\") as f:\n",
    "    lines = f.read()\n",
    "lines.split('\\n')"
   ]
  },
  {
   "cell_type": "code",
   "execution_count": 53,
   "id": "fefc8906-da66-4d45-bf6c-d7179c29a683",
   "metadata": {},
   "outputs": [
    {
     "data": {
      "text/html": [
       "<div>\n",
       "<style scoped>\n",
       "    .dataframe tbody tr th:only-of-type {\n",
       "        vertical-align: middle;\n",
       "    }\n",
       "\n",
       "    .dataframe tbody tr th {\n",
       "        vertical-align: top;\n",
       "    }\n",
       "\n",
       "    .dataframe thead th {\n",
       "        text-align: right;\n",
       "    }\n",
       "</style>\n",
       "<table border=\"1\" class=\"dataframe\">\n",
       "  <thead>\n",
       "    <tr style=\"text-align: right;\">\n",
       "      <th></th>\n",
       "      <th>sentence</th>\n",
       "    </tr>\n",
       "  </thead>\n",
       "  <tbody>\n",
       "    <tr>\n",
       "      <th>0</th>\n",
       "      <td>레게(Reggae)는 1960년대 후반 자메이카에서 발전한 음악 장르이다.</td>\n",
       "    </tr>\n",
       "    <tr>\n",
       "      <th>1</th>\n",
       "      <td>자메이카 음악의 한 장르인 스카와 록스테디에서 출발하여 여러 음악 장르의 영향을 받...</td>\n",
       "    </tr>\n",
       "    <tr>\n",
       "      <th>2</th>\n",
       "      <td>레게의 음악적 특성은 오프 비트라 불리는 독특한 약박 리듬에 기반한다.</td>\n",
       "    </tr>\n",
       "    <tr>\n",
       "      <th>3</th>\n",
       "      <td>레게의 리듬은 4분의 4박자로 보통 스카보다는 느리게 연주되며 한 마디의 세 번째 ...</td>\n",
       "    </tr>\n",
       "    <tr>\n",
       "      <th>4</th>\n",
       "      <td>레게라는 말은 \"현재 유행하는\"이란 뜻의 자메이카식 영어에서 나왔다.</td>\n",
       "    </tr>\n",
       "    <tr>\n",
       "      <th>5</th>\n",
       "      <td>예를 들어 자메이카 영어로 \"regged clothing\"은 한참 유행하는 옷이란 ...</td>\n",
       "    </tr>\n",
       "    <tr>\n",
       "      <th>6</th>\n",
       "      <td>음반에서 레게라는 용어가 처음 사용된 것은 자메이카의 음악 그룹인 투츠 앤 더 마이...</td>\n",
       "    </tr>\n",
       "    <tr>\n",
       "      <th>7</th>\n",
       "      <td>이 당시 자메이카의 킹스턴에서는 좀 더 느리게 연주한 록스테디 음악을 레게라 불렀다.</td>\n",
       "    </tr>\n",
       "    <tr>\n",
       "      <th>8</th>\n",
       "      <td>다음은 레게 음악가인 데릭 모건의 말이다.</td>\n",
       "    </tr>\n",
       "    <tr>\n",
       "      <th>9</th>\n",
       "      <td>한편 레게 음반 《클렌시 에클스》를 제작한 스티브 버로우는 레게라는 말이 파트와어 ...</td>\n",
       "    </tr>\n",
       "    <tr>\n",
       "      <th>10</th>\n",
       "      <td>다음은 투츠 앤 마이탈스 그룹의 맴버였던 투츠 히베르트의 말이다.</td>\n",
       "    </tr>\n",
       "    <tr>\n",
       "      <th>11</th>\n",
       "      <td>한편 밥 말리는 왕에게 헌정된 찬송가를 뜻하는 스페인어 가스펠 레게의 사례를 들어 ...</td>\n",
       "    </tr>\n",
       "    <tr>\n",
       "      <th>12</th>\n",
       "      <td>1960년대 후반 자메이카의 록스태디와 스카에서 발전한 레게는 아프리카 음악과 케러...</td>\n",
       "    </tr>\n",
       "    <tr>\n",
       "      <th>13</th>\n",
       "      <td>1959년에서 1961년 사이 자메이카에서 시작된 스카는 자메이카 전통 음악인 멘토...</td>\n",
       "    </tr>\n",
       "    <tr>\n",
       "      <th>14</th>\n",
       "      <td>1960년 중반 자메이카 음악가들은 스카를 좀 더 느리게 연주하면서 오프 비트를 가...</td>\n",
       "    </tr>\n",
       "    <tr>\n",
       "      <th>15</th>\n",
       "      <td>불렀다.</td>\n",
       "    </tr>\n",
       "    <tr>\n",
       "      <th>16</th>\n",
       "      <td>1960년대 말이 되자 음악가들은 리듬을 보다 느리게 하고 다른 여러가지 효과를 가...</td>\n",
       "    </tr>\n",
       "    <tr>\n",
       "      <th>17</th>\n",
       "      <td>레게는 이후 자메이카뿐만 아니라 영국, 미국에 퍼져 유행했다.</td>\n",
       "    </tr>\n",
       "    <tr>\n",
       "      <th>18</th>\n",
       "      <td>레게음악의 가사는 대부분 가난한 자메이카 사람들이 갖는 사회에 대한 관심과 종교에 ...</td>\n",
       "    </tr>\n",
       "    <tr>\n",
       "      <th>19</th>\n",
       "      <td>레게음악은 4/4박자에 불규칙하면서 강한 악센트가 특징이다.</td>\n",
       "    </tr>\n",
       "    <tr>\n",
       "      <th>20</th>\n",
       "      <td>짧은 리듬을 전기 기타와 드럼 세트로 여러 번 반복하거나 오르간이나 피아노로 반복하...</td>\n",
       "    </tr>\n",
       "    <tr>\n",
       "      <th>21</th>\n",
       "      <td>리듬이 복잡한 경우도 있으나 화성은 단순하며, 록 음악처럼 소리도 크다.</td>\n",
       "    </tr>\n",
       "    <tr>\n",
       "      <th>22</th>\n",
       "      <td>그리고 개의 심박수와 유사하여 개가 들으면 심신이 안정되고 불안 해소, 수면 유도를...</td>\n",
       "    </tr>\n",
       "  </tbody>\n",
       "</table>\n",
       "</div>"
      ],
      "text/plain": [
       "                                             sentence\n",
       "0           레게(Reggae)는 1960년대 후반 자메이카에서 발전한 음악 장르이다.\n",
       "1   자메이카 음악의 한 장르인 스카와 록스테디에서 출발하여 여러 음악 장르의 영향을 받...\n",
       "2             레게의 음악적 특성은 오프 비트라 불리는 독특한 약박 리듬에 기반한다.\n",
       "3   레게의 리듬은 4분의 4박자로 보통 스카보다는 느리게 연주되며 한 마디의 세 번째 ...\n",
       "4              레게라는 말은 \"현재 유행하는\"이란 뜻의 자메이카식 영어에서 나왔다.\n",
       "5   예를 들어 자메이카 영어로 \"regged clothing\"은 한참 유행하는 옷이란 ...\n",
       "6   음반에서 레게라는 용어가 처음 사용된 것은 자메이카의 음악 그룹인 투츠 앤 더 마이...\n",
       "7     이 당시 자메이카의 킹스턴에서는 좀 더 느리게 연주한 록스테디 음악을 레게라 불렀다.\n",
       "8                             다음은 레게 음악가인 데릭 모건의 말이다.\n",
       "9   한편 레게 음반 《클렌시 에클스》를 제작한 스티브 버로우는 레게라는 말이 파트와어 ...\n",
       "10               다음은 투츠 앤 마이탈스 그룹의 맴버였던 투츠 히베르트의 말이다.\n",
       "11  한편 밥 말리는 왕에게 헌정된 찬송가를 뜻하는 스페인어 가스펠 레게의 사례를 들어 ...\n",
       "12  1960년대 후반 자메이카의 록스태디와 스카에서 발전한 레게는 아프리카 음악과 케러...\n",
       "13  1959년에서 1961년 사이 자메이카에서 시작된 스카는 자메이카 전통 음악인 멘토...\n",
       "14  1960년 중반 자메이카 음악가들은 스카를 좀 더 느리게 연주하면서 오프 비트를 가...\n",
       "15                                               불렀다.\n",
       "16  1960년대 말이 되자 음악가들은 리듬을 보다 느리게 하고 다른 여러가지 효과를 가...\n",
       "17                 레게는 이후 자메이카뿐만 아니라 영국, 미국에 퍼져 유행했다.\n",
       "18  레게음악의 가사는 대부분 가난한 자메이카 사람들이 갖는 사회에 대한 관심과 종교에 ...\n",
       "19                  레게음악은 4/4박자에 불규칙하면서 강한 악센트가 특징이다.\n",
       "20  짧은 리듬을 전기 기타와 드럼 세트로 여러 번 반복하거나 오르간이나 피아노로 반복하...\n",
       "21           리듬이 복잡한 경우도 있으나 화성은 단순하며, 록 음악처럼 소리도 크다.\n",
       "22  그리고 개의 심박수와 유사하여 개가 들으면 심신이 안정되고 불안 해소, 수면 유도를..."
      ]
     },
     "execution_count": 53,
     "metadata": {},
     "output_type": "execute_result"
    }
   ],
   "source": [
    "df = pd.DataFrame({\"sentence\":lines.split('\\n')})\n",
    "df"
   ]
  },
  {
   "cell_type": "code",
   "execution_count": 54,
   "id": "33e0fc56-b65e-4435-953f-3298847f2333",
   "metadata": {},
   "outputs": [],
   "source": [
    "df.to_csv('./test.csv', index=False)"
   ]
  },
  {
   "cell_type": "code",
   "execution_count": null,
   "id": "333a4a15-c0c4-4523-84a8-552c4ab51f7b",
   "metadata": {},
   "outputs": [],
   "source": []
  }
 ],
 "metadata": {
  "kernelspec": {
   "display_name": "Python 3 (ipykernel)",
   "language": "python",
   "name": "python3"
  },
  "language_info": {
   "codemirror_mode": {
    "name": "ipython",
    "version": 3
   },
   "file_extension": ".py",
   "mimetype": "text/x-python",
   "name": "python",
   "nbconvert_exporter": "python",
   "pygments_lexer": "ipython3",
   "version": "3.8.5"
  }
 },
 "nbformat": 4,
 "nbformat_minor": 5
}
