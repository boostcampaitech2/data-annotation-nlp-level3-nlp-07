{
 "cells": [
  {
   "cell_type": "code",
   "execution_count": 1,
   "id": "dbfef7c7-6c46-4e33-adf8-0f4a14722f39",
   "metadata": {},
   "outputs": [],
   "source": [
    "import pandas as pd"
   ]
  },
  {
   "cell_type": "code",
   "execution_count": 2,
   "id": "9641ab67-df73-4fbb-8778-10c784ca20f2",
   "metadata": {},
   "outputs": [
    {
     "data": {
      "text/html": [
       "<div>\n",
       "<style scoped>\n",
       "    .dataframe tbody tr th:only-of-type {\n",
       "        vertical-align: middle;\n",
       "    }\n",
       "\n",
       "    .dataframe tbody tr th {\n",
       "        vertical-align: top;\n",
       "    }\n",
       "\n",
       "    .dataframe thead th {\n",
       "        text-align: right;\n",
       "    }\n",
       "</style>\n",
       "<table border=\"1\" class=\"dataframe\">\n",
       "  <thead>\n",
       "    <tr style=\"text-align: right;\">\n",
       "      <th></th>\n",
       "      <th>id</th>\n",
       "      <th>sentence</th>\n",
       "      <th>subject_entity</th>\n",
       "      <th>object_entity</th>\n",
       "      <th>relation</th>\n",
       "    </tr>\n",
       "  </thead>\n",
       "  <tbody>\n",
       "    <tr>\n",
       "      <th>0</th>\n",
       "      <td>0</td>\n",
       "      <td>힙합(Hip Hop)은 1970년대 미합중국 뉴욕의 브롱스에서 유행하기 시작한 춤과...</td>\n",
       "      <td>{'word': '1970년대', 'start_idx': 13, 'end_idx':...</td>\n",
       "      <td>{'word': '대중음악', 'start_idx': 47, 'end_idx': 5...</td>\n",
       "      <td>8</td>\n",
       "    </tr>\n",
       "    <tr>\n",
       "      <th>1</th>\n",
       "      <td>1</td>\n",
       "      <td>힙합(Hip Hop)은 1970년대 미합중국 뉴욕의 브롱스에서 유행하기 시작한 춤과...</td>\n",
       "      <td>{'word': '힙합', 'start_idx': 0, 'end_idx': 1, '...</td>\n",
       "      <td>{'word': 'Hip Hop', 'start_idx': 3, 'end_idx':...</td>\n",
       "      <td>1</td>\n",
       "    </tr>\n",
       "    <tr>\n",
       "      <th>2</th>\n",
       "      <td>2</td>\n",
       "      <td>힙합(Hip Hop)은 1970년대 미합중국 뉴욕의 브롱스에서 유행하기 시작한 춤과...</td>\n",
       "      <td>{'word': '미합중국 뉴욕의 브롱스', 'start_idx': 71, 'end...</td>\n",
       "      <td>{'word': '1970년대', 'start_idx': 13, 'end_idx':...</td>\n",
       "      <td>8</td>\n",
       "    </tr>\n",
       "    <tr>\n",
       "      <th>3</th>\n",
       "      <td>3</td>\n",
       "      <td>힙합(Hip Hop)은 1970년대 미합중국 뉴욕의 브롱스에서 유행하기 시작한 춤과...</td>\n",
       "      <td>{'word': '아프리카계 미국인', 'start_idx': 86, 'end_id...</td>\n",
       "      <td>{'word': '대중음악', 'start_idx': 47, 'end_idx': 5...</td>\n",
       "      <td>8</td>\n",
       "    </tr>\n",
       "    <tr>\n",
       "      <th>4</th>\n",
       "      <td>4</td>\n",
       "      <td>힙합(Hip Hop)은 1970년대 미합중국 뉴욕의 브롱스에서 유행하기 시작한 춤과...</td>\n",
       "      <td>{'word': '대중음악', 'start_idx': 47, 'end_idx': 5...</td>\n",
       "      <td>{'word': '아프리카계 미국인', 'start_idx': 86, 'end_id...</td>\n",
       "      <td>8</td>\n",
       "    </tr>\n",
       "  </tbody>\n",
       "</table>\n",
       "</div>"
      ],
      "text/plain": [
       "   id                                           sentence  \\\n",
       "0   0  힙합(Hip Hop)은 1970년대 미합중국 뉴욕의 브롱스에서 유행하기 시작한 춤과...   \n",
       "1   1  힙합(Hip Hop)은 1970년대 미합중국 뉴욕의 브롱스에서 유행하기 시작한 춤과...   \n",
       "2   2  힙합(Hip Hop)은 1970년대 미합중국 뉴욕의 브롱스에서 유행하기 시작한 춤과...   \n",
       "3   3  힙합(Hip Hop)은 1970년대 미합중국 뉴욕의 브롱스에서 유행하기 시작한 춤과...   \n",
       "4   4  힙합(Hip Hop)은 1970년대 미합중국 뉴욕의 브롱스에서 유행하기 시작한 춤과...   \n",
       "\n",
       "                                      subject_entity  \\\n",
       "0  {'word': '1970년대', 'start_idx': 13, 'end_idx':...   \n",
       "1  {'word': '힙합', 'start_idx': 0, 'end_idx': 1, '...   \n",
       "2  {'word': '미합중국 뉴욕의 브롱스', 'start_idx': 71, 'end...   \n",
       "3  {'word': '아프리카계 미국인', 'start_idx': 86, 'end_id...   \n",
       "4  {'word': '대중음악', 'start_idx': 47, 'end_idx': 5...   \n",
       "\n",
       "                                       object_entity  relation  \n",
       "0  {'word': '대중음악', 'start_idx': 47, 'end_idx': 5...         8  \n",
       "1  {'word': 'Hip Hop', 'start_idx': 3, 'end_idx':...         1  \n",
       "2  {'word': '1970년대', 'start_idx': 13, 'end_idx':...         8  \n",
       "3  {'word': '대중음악', 'start_idx': 47, 'end_idx': 5...         8  \n",
       "4  {'word': '아프리카계 미국인', 'start_idx': 86, 'end_id...         8  "
      ]
     },
     "execution_count": 2,
     "metadata": {},
     "output_type": "execute_result"
    }
   ],
   "source": [
    "df = pd.read_csv(\"./new_dataset.csv\")\n",
    "df.head()"
   ]
  },
  {
   "cell_type": "code",
   "execution_count": 3,
   "id": "8ce383d5-d148-46cd-ac13-b9bf13fb6792",
   "metadata": {},
   "outputs": [
    {
     "data": {
      "text/plain": [
       "3471"
      ]
     },
     "execution_count": 3,
     "metadata": {},
     "output_type": "execute_result"
    }
   ],
   "source": [
    "len(df)"
   ]
  },
  {
   "cell_type": "code",
   "execution_count": 4,
   "id": "cbd34076-d13a-4b9d-861c-3c5a08fdc419",
   "metadata": {},
   "outputs": [],
   "source": [
    "import seaborn as sns"
   ]
  },
  {
   "cell_type": "code",
   "execution_count": 6,
   "id": "300df3a2-b80b-4732-9ca7-76d35a1bf756",
   "metadata": {},
   "outputs": [
    {
     "data": {
      "text/plain": [
       "<AxesSubplot:xlabel='relation', ylabel='count'>"
      ]
     },
     "execution_count": 6,
     "metadata": {},
     "output_type": "execute_result"
    },
    {
     "data": {
      "image/png": "[encoded data removed]",
      "text/plain": [
       "<Figure size 432x288 with 1 Axes>"
      ]
     },
     "metadata": {
      "needs_background": "light"
     },
     "output_type": "display_data"
    }
   ],
   "source": [
    "sns.countplot(data=df, x='relation')"
   ]
  },
  {
   "cell_type": "code",
   "execution_count": 7,
   "id": "1ee6c9b4-ea85-49ef-b931-7a5fbd4fb042",
   "metadata": {},
   "outputs": [
    {
     "data": {
      "text/plain": [
       "8    1765\n",
       "4     502\n",
       "0     312\n",
       "7     225\n",
       "2     200\n",
       "6     161\n",
       "3     141\n",
       "1     107\n",
       "5      58\n",
       "Name: relation, dtype: int64"
      ]
     },
     "execution_count": 7,
     "metadata": {},
     "output_type": "execute_result"
    }
   ],
   "source": [
    "df['relation'].value_counts()"
   ]
  },
  {
   "cell_type": "code",
   "execution_count": 10,
   "id": "0051fb5c-a09b-4475-8560-e998fed69376",
   "metadata": {},
   "outputs": [
    {
     "data": {
      "text/plain": [
       "id                                                                0\n",
       "sentence          힙합(Hip Hop)은 1970년대 미합중국 뉴욕의 브롱스에서 유행하기 시작한 춤과...\n",
       "subject_entity    {'word': '1970년대', 'start_idx': 13, 'end_idx':...\n",
       "object_entity     {'word': '대중음악', 'start_idx': 47, 'end_idx': 5...\n",
       "relation                                                          8\n",
       "Name: 0, dtype: object"
      ]
     },
     "execution_count": 10,
     "metadata": {},
     "output_type": "execute_result"
    }
   ],
   "source": [
    "df.iloc[0]"
   ]
  },
  {
   "cell_type": "code",
   "execution_count": 3,
   "id": "8edd4746-aac2-4aea-8ba9-50e7de9beb4b",
   "metadata": {},
   "outputs": [],
   "source": [
    "import pickle\n",
    "import pandas as pd"
   ]
  },
  {
   "cell_type": "code",
   "execution_count": 4,
   "id": "5db63dc0",
   "metadata": {},
   "outputs": [],
   "source": [
    "train = pd.read_csv(\"/opt/ml/data/train.csv\")\n",
    "test = pd.read_csv(\"/opt/ml/data/test.csv\")"
   ]
  },
  {
   "cell_type": "code",
   "execution_count": 5,
   "id": "73f586a3",
   "metadata": {},
   "outputs": [],
   "source": [
    "num_to_label = {\n",
    "    0 : \"genre:origin\",\n",
    "    1 : \"genre:alternate_name\",\n",
    "    2 : \"genre:super_genre\",\n",
    "    3 : \"genre:sub_genre\",\n",
    "    4 : \"genre:artist\",\n",
    "    5 : \"artist:member_of\",\n",
    "    6 : \"producer:product\",\n",
    "    7 : \"product:origin\",\n",
    "    8 : \"no_relation\"\n",
    "}"
   ]
  },
  {
   "cell_type": "code",
   "execution_count": 8,
   "id": "04077b2a",
   "metadata": {},
   "outputs": [
    {
     "data": {
      "text/plain": [
       "{'genre:origin': 0,\n",
       " 'genre:alternate_name': 1,\n",
       " 'genre:super_genre': 2,\n",
       " 'genre:sub_genre': 3,\n",
       " 'genre:artist': 4,\n",
       " 'artist:member_of': 5,\n",
       " 'producer:product': 6,\n",
       " 'product:origin': 7,\n",
       " 'no_relation': 8}"
      ]
     },
     "execution_count": 8,
     "metadata": {},
     "output_type": "execute_result"
    }
   ],
   "source": [
    "label_to_num = {v:k for k, v in num_to_label.items()}\n",
    "label_to_num"
   ]
  },
  {
   "cell_type": "code",
   "execution_count": 9,
   "id": "eb00bd38",
   "metadata": {},
   "outputs": [],
   "source": [
    "# /opt/ml/code/dict_label_to_num.pkl\n",
    "# /opt/ml/code/dict_num_to_label.pkl\n",
    "\n",
    "with open('/opt/ml/code/dict_label_to_num.pkl', 'wb') as f:\n",
    "    pickle.dump(label_to_num, f)\n",
    "\n",
    "with open('/opt/ml/code/dict_num_to_label.pkl', 'wb') as f:\n",
    "    pickle.dump(num_to_label, f)"
   ]
  },
  {
   "cell_type": "code",
   "execution_count": 10,
   "id": "8ef81636",
   "metadata": {},
   "outputs": [],
   "source": [
    "train['relation'] = [num_to_label[label] for label in train['relation']]\n",
    "test['relation'] = [num_to_label[label] for label in test['relation']]"
   ]
  },
  {
   "cell_type": "code",
   "execution_count": 11,
   "id": "aa8493ed",
   "metadata": {},
   "outputs": [
    {
     "data": {
      "text/html": [
       "<div>\n",
       "<style scoped>\n",
       "    .dataframe tbody tr th:only-of-type {\n",
       "        vertical-align: middle;\n",
       "    }\n",
       "\n",
       "    .dataframe tbody tr th {\n",
       "        vertical-align: top;\n",
       "    }\n",
       "\n",
       "    .dataframe thead th {\n",
       "        text-align: right;\n",
       "    }\n",
       "</style>\n",
       "<table border=\"1\" class=\"dataframe\">\n",
       "  <thead>\n",
       "    <tr style=\"text-align: right;\">\n",
       "      <th></th>\n",
       "      <th>id</th>\n",
       "      <th>sentence</th>\n",
       "      <th>subject_entity</th>\n",
       "      <th>object_entity</th>\n",
       "      <th>relation</th>\n",
       "    </tr>\n",
       "  </thead>\n",
       "  <tbody>\n",
       "    <tr>\n",
       "      <th>0</th>\n",
       "      <td>79</td>\n",
       "      <td>90년대는 힙합이 미국 대중음악의 중심 중 하나의 축을 형성하게 된 시대라고 보아도...</td>\n",
       "      <td>{'word': '90년대', 'start_idx': 0, 'end_idx': 3,...</td>\n",
       "      <td>{'word': '힙합', 'start_idx': 6, 'end_idx': 7, '...</td>\n",
       "      <td>no_relation</td>\n",
       "    </tr>\n",
       "    <tr>\n",
       "      <th>1</th>\n",
       "      <td>450</td>\n",
       "      <td>빅 빌 브룬지와 윌리 딕슨은 유럽에 새로운 시장을 찾기 시작했고, 딕 워터맨과 그가...</td>\n",
       "      <td>{'word': '유럽', 'start_idx': 47, 'end_idx': 48,...</td>\n",
       "      <td>{'word': '딕 워터맨', 'start_idx': 37, 'end_idx': ...</td>\n",
       "      <td>no_relation</td>\n",
       "    </tr>\n",
       "    <tr>\n",
       "      <th>2</th>\n",
       "      <td>1912</td>\n",
       "      <td>시부야계 관련 뮤지션에는 피치카토 파이브, 고니시 야스하루, 판타스틱 플라스틱 머신...</td>\n",
       "      <td>{'word': '시부야계', 'start_idx': 0, 'end_idx': 3,...</td>\n",
       "      <td>{'word': 'P&amp;ART SASANOOOHA', 'start_idx': 456,...</td>\n",
       "      <td>genre:artist</td>\n",
       "    </tr>\n",
       "    <tr>\n",
       "      <th>3</th>\n",
       "      <td>2375</td>\n",
       "      <td>락의 시초는 블루스이며 1930년대 로버트존슨이 개발한 리듬이 시초가 된다.</td>\n",
       "      <td>{'word': '락', 'start_idx': 0, 'end_idx': 0, 't...</td>\n",
       "      <td>{'word': '로버트존슨', 'start_idx': 20, 'end_idx': ...</td>\n",
       "      <td>genre:artist</td>\n",
       "    </tr>\n",
       "    <tr>\n",
       "      <th>4</th>\n",
       "      <td>869</td>\n",
       "      <td>싱어송라이터였던 행크 윌리엄스는 그의 50년대 초 전성기였고 레프티 프리첼은 그의 ...</td>\n",
       "      <td>{'word': '50년대 초', 'start_idx': 21, 'end_idx':...</td>\n",
       "      <td>{'word': '컨트리 음악', 'start_idx': 79, 'end_idx':...</td>\n",
       "      <td>no_relation</td>\n",
       "    </tr>\n",
       "  </tbody>\n",
       "</table>\n",
       "</div>"
      ],
      "text/plain": [
       "     id                                           sentence  \\\n",
       "0    79  90년대는 힙합이 미국 대중음악의 중심 중 하나의 축을 형성하게 된 시대라고 보아도...   \n",
       "1   450  빅 빌 브룬지와 윌리 딕슨은 유럽에 새로운 시장을 찾기 시작했고, 딕 워터맨과 그가...   \n",
       "2  1912  시부야계 관련 뮤지션에는 피치카토 파이브, 고니시 야스하루, 판타스틱 플라스틱 머신...   \n",
       "3  2375         락의 시초는 블루스이며 1930년대 로버트존슨이 개발한 리듬이 시초가 된다.   \n",
       "4   869  싱어송라이터였던 행크 윌리엄스는 그의 50년대 초 전성기였고 레프티 프리첼은 그의 ...   \n",
       "\n",
       "                                      subject_entity  \\\n",
       "0  {'word': '90년대', 'start_idx': 0, 'end_idx': 3,...   \n",
       "1  {'word': '유럽', 'start_idx': 47, 'end_idx': 48,...   \n",
       "2  {'word': '시부야계', 'start_idx': 0, 'end_idx': 3,...   \n",
       "3  {'word': '락', 'start_idx': 0, 'end_idx': 0, 't...   \n",
       "4  {'word': '50년대 초', 'start_idx': 21, 'end_idx':...   \n",
       "\n",
       "                                       object_entity      relation  \n",
       "0  {'word': '힙합', 'start_idx': 6, 'end_idx': 7, '...   no_relation  \n",
       "1  {'word': '딕 워터맨', 'start_idx': 37, 'end_idx': ...   no_relation  \n",
       "2  {'word': 'P&ART SASANOOOHA', 'start_idx': 456,...  genre:artist  \n",
       "3  {'word': '로버트존슨', 'start_idx': 20, 'end_idx': ...  genre:artist  \n",
       "4  {'word': '컨트리 음악', 'start_idx': 79, 'end_idx':...   no_relation  "
      ]
     },
     "execution_count": 11,
     "metadata": {},
     "output_type": "execute_result"
    }
   ],
   "source": [
    "train.head()"
   ]
  },
  {
   "cell_type": "code",
   "execution_count": 12,
   "id": "7dbb0daa",
   "metadata": {},
   "outputs": [
    {
     "data": {
      "text/html": [
       "<div>\n",
       "<style scoped>\n",
       "    .dataframe tbody tr th:only-of-type {\n",
       "        vertical-align: middle;\n",
       "    }\n",
       "\n",
       "    .dataframe tbody tr th {\n",
       "        vertical-align: top;\n",
       "    }\n",
       "\n",
       "    .dataframe thead th {\n",
       "        text-align: right;\n",
       "    }\n",
       "</style>\n",
       "<table border=\"1\" class=\"dataframe\">\n",
       "  <thead>\n",
       "    <tr style=\"text-align: right;\">\n",
       "      <th></th>\n",
       "      <th>id</th>\n",
       "      <th>sentence</th>\n",
       "      <th>subject_entity</th>\n",
       "      <th>object_entity</th>\n",
       "      <th>relation</th>\n",
       "    </tr>\n",
       "  </thead>\n",
       "  <tbody>\n",
       "    <tr>\n",
       "      <th>0</th>\n",
       "      <td>2115</td>\n",
       "      <td>흑인과 백인의 음악이 혼합된 로큰롤은 이른바 “문화적 충돌”에 앞장섰던 라디오방송국...</td>\n",
       "      <td>{'word': '로큰롤', 'start_idx': 16, 'end_idx': 18...</td>\n",
       "      <td>{'word': '흑인과 백인의 음악', 'start_idx': 0, 'end_id...</td>\n",
       "      <td>genre:origin</td>\n",
       "    </tr>\n",
       "    <tr>\n",
       "      <th>1</th>\n",
       "      <td>1001</td>\n",
       "      <td>홍키 통크는 로커빌리와 컨트리 팝이 주류 팬들을 휘어잡은만큼은 아니었지만 그 사운드...</td>\n",
       "      <td>{'word': '60년대', 'start_idx': 52, 'end_idx': 5...</td>\n",
       "      <td>{'word': '컨트리 팝', 'start_idx': 58, 'end_idx': ...</td>\n",
       "      <td>no_relation</td>\n",
       "    </tr>\n",
       "    <tr>\n",
       "      <th>2</th>\n",
       "      <td>470</td>\n",
       "      <td>재즈는 초기 뉴올리언스 딕시랜드, 스윙 시대의 빅 밴드 음악, 비밥, 라틴 재즈, ...</td>\n",
       "      <td>{'word': '뉴올리언스 딕시랜드', 'start_idx': 7, 'end_id...</td>\n",
       "      <td>{'word': '힙합', 'start_idx': 62, 'end_idx': 63,...</td>\n",
       "      <td>no_relation</td>\n",
       "    </tr>\n",
       "    <tr>\n",
       "      <th>3</th>\n",
       "      <td>9</td>\n",
       "      <td>2010년대 힙합은 기존의 모습을 가지면서도 수 많은 형태로 표현된다.</td>\n",
       "      <td>{'word': '2010년대', 'start_idx': 0, 'end_idx': ...</td>\n",
       "      <td>{'word': '힙합', 'start_idx': 7, 'end_idx': 8, '...</td>\n",
       "      <td>no_relation</td>\n",
       "    </tr>\n",
       "    <tr>\n",
       "      <th>4</th>\n",
       "      <td>2385</td>\n",
       "      <td>록이라는 용어는 정의하기 모호하다. 이 단어는 때때로 여러 장르들이 모호하게 섞여있...</td>\n",
       "      <td>{'word': '록', 'start_idx': 0, 'end_idx': 0, 't...</td>\n",
       "      <td>{'word': '힙합', 'start_idx': 70, 'end_idx': 71,...</td>\n",
       "      <td>genre:super_genre</td>\n",
       "    </tr>\n",
       "  </tbody>\n",
       "</table>\n",
       "</div>"
      ],
      "text/plain": [
       "     id                                           sentence  \\\n",
       "0  2115  흑인과 백인의 음악이 혼합된 로큰롤은 이른바 “문화적 충돌”에 앞장섰던 라디오방송국...   \n",
       "1  1001  홍키 통크는 로커빌리와 컨트리 팝이 주류 팬들을 휘어잡은만큼은 아니었지만 그 사운드...   \n",
       "2   470  재즈는 초기 뉴올리언스 딕시랜드, 스윙 시대의 빅 밴드 음악, 비밥, 라틴 재즈, ...   \n",
       "3     9            2010년대 힙합은 기존의 모습을 가지면서도 수 많은 형태로 표현된다.   \n",
       "4  2385  록이라는 용어는 정의하기 모호하다. 이 단어는 때때로 여러 장르들이 모호하게 섞여있...   \n",
       "\n",
       "                                      subject_entity  \\\n",
       "0  {'word': '로큰롤', 'start_idx': 16, 'end_idx': 18...   \n",
       "1  {'word': '60년대', 'start_idx': 52, 'end_idx': 5...   \n",
       "2  {'word': '뉴올리언스 딕시랜드', 'start_idx': 7, 'end_id...   \n",
       "3  {'word': '2010년대', 'start_idx': 0, 'end_idx': ...   \n",
       "4  {'word': '록', 'start_idx': 0, 'end_idx': 0, 't...   \n",
       "\n",
       "                                       object_entity           relation  \n",
       "0  {'word': '흑인과 백인의 음악', 'start_idx': 0, 'end_id...       genre:origin  \n",
       "1  {'word': '컨트리 팝', 'start_idx': 58, 'end_idx': ...        no_relation  \n",
       "2  {'word': '힙합', 'start_idx': 62, 'end_idx': 63,...        no_relation  \n",
       "3  {'word': '힙합', 'start_idx': 7, 'end_idx': 8, '...        no_relation  \n",
       "4  {'word': '힙합', 'start_idx': 70, 'end_idx': 71,...  genre:super_genre  "
      ]
     },
     "execution_count": 12,
     "metadata": {},
     "output_type": "execute_result"
    }
   ],
   "source": [
    "test.head()"
   ]
  },
  {
   "cell_type": "code",
   "execution_count": 13,
   "id": "cdb2dccb",
   "metadata": {},
   "outputs": [],
   "source": [
    "train.to_csv(\"data/train.csv\", index=False)\n",
    "test.to_csv(\"data/test.csv\", index=False)"
   ]
  },
  {
   "cell_type": "code",
   "execution_count": null,
   "id": "56bbf0ea",
   "metadata": {},
   "outputs": [],
   "source": []
  }
 ],
 "metadata": {
  "kernelspec": {
   "display_name": "Python 3 (ipykernel)",
   "language": "python",
   "name": "python3"
  },
  "language_info": {
   "codemirror_mode": {
    "name": "ipython",
    "version": 3
   },
   "file_extension": ".py",
   "mimetype": "text/x-python",
   "name": "python",
   "nbconvert_exporter": "python",
   "pygments_lexer": "ipython3",
   "version": "3.8.5"
  }
 },
 "nbformat": 4,
 "nbformat_minor": 5
}
